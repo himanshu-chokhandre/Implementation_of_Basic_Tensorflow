{
  "nbformat": 4,
  "nbformat_minor": 0,
  "metadata": {
    "colab": {
      "provenance": [],
      "include_colab_link": true
    },
    "kernelspec": {
      "name": "python3",
      "display_name": "Python 3"
    },
    "language_info": {
      "name": "python"
    }
  },
  "cells": [
    {
      "cell_type": "markdown",
      "metadata": {
        "id": "view-in-github",
        "colab_type": "text"
      },
      "source": [
        "<a href=\"https://colab.research.google.com/github/himanshu0108/Implementation_of_Basic_Tensorflow/blob/main/Tensor_Basics.ipynb\" target=\"_parent\"><img src=\"https://colab.research.google.com/assets/colab-badge.svg\" alt=\"Open In Colab\"/></a>"
      ]
    },
    {
      "cell_type": "code",
      "execution_count": 1,
      "metadata": {
        "colab": {
          "base_uri": "https://localhost:8080/"
        },
        "id": "1Yt3DWAbuXia",
        "outputId": "677416d5-c7f8-4e6f-c10c-d6e860822592"
      },
      "outputs": [
        {
          "output_type": "stream",
          "name": "stdout",
          "text": [
            "[3 1 4 5]\n"
          ]
        }
      ],
      "source": [
        "#One dimensional Tensor\n",
        "#One dimensional tensor is a normal array structure which includes one set of values of the same data type.\n",
        "import numpy as np\n",
        "tensor_1d = np.array([3, 1, 4, 5])\n",
        "print (tensor_1d)"
      ]
    },
    {
      "cell_type": "code",
      "source": [
        "import tensorflow as tf\n",
        "print(\"TensorFlow version:\", tf.__version__)"
      ],
      "metadata": {
        "colab": {
          "base_uri": "https://localhost:8080/"
        },
        "id": "RcRNvV5P0zM0",
        "outputId": "88752582-e0a7-42bd-ab27-bb932a6a9d95"
      },
      "execution_count": 2,
      "outputs": [
        {
          "output_type": "stream",
          "name": "stdout",
          "text": [
            "TensorFlow version: 2.13.0\n"
          ]
        }
      ]
    },
    {
      "cell_type": "code",
      "source": [
        "#check indexing\n",
        "print (tensor_1d[0])\n",
        "print (tensor_1d[2])"
      ],
      "metadata": {
        "colab": {
          "base_uri": "https://localhost:8080/"
        },
        "id": "mjrdiNbIu5FN",
        "outputId": "1b7afc70-553d-4149-cdee-579df834e585"
      },
      "execution_count": 3,
      "outputs": [
        {
          "output_type": "stream",
          "name": "stdout",
          "text": [
            "3\n",
            "4\n"
          ]
        }
      ]
    },
    {
      "cell_type": "code",
      "source": [
        "#Two dimensional Tensors\n",
        "#Sequence of arrays are used for creating “two dimensional tensors”.\n",
        "\n",
        "#The creation of two-dimensional tensors is described below −\n",
        "import numpy as np\n",
        "tensor_2d = np.array([(1,2,3,4),(4,5,6,7),(8,9,10,11),(12,13,14,15)])\n",
        "print(tensor_2d)\n"
      ],
      "metadata": {
        "colab": {
          "base_uri": "https://localhost:8080/"
        },
        "id": "07p-BUDwvHCt",
        "outputId": "fe039aa6-d57f-4afb-9403-38483fc869b7"
      },
      "execution_count": 4,
      "outputs": [
        {
          "output_type": "stream",
          "name": "stdout",
          "text": [
            "[[ 1  2  3  4]\n",
            " [ 4  5  6  7]\n",
            " [ 8  9 10 11]\n",
            " [12 13 14 15]]\n"
          ]
        }
      ]
    },
    {
      "cell_type": "code",
      "source": [
        "#The specific elements of two dimensional tensors can be tracked with the help of row number and column number specified as index numbers.\n",
        "tensor_2d[3][2]"
      ],
      "metadata": {
        "colab": {
          "base_uri": "https://localhost:8080/"
        },
        "id": "Wr5B4rgk0yVe",
        "outputId": "9006baf6-f7f9-495a-f20a-03ceb473a066"
      },
      "execution_count": 5,
      "outputs": [
        {
          "output_type": "execute_result",
          "data": {
            "text/plain": [
              "14"
            ]
          },
          "metadata": {},
          "execution_count": 5
        }
      ]
    },
    {
      "cell_type": "code",
      "source": [
        "#ensor Handling and Manipulations\n",
        "import tensorflow as tf\n",
        "import numpy as np\n",
        "\n",
        "matrix1 = np.array([(2,2,2),(2,2,2),(2,2,2)],dtype = 'int32')\n",
        "matrix2 = np.array([(1,1,1),(1,1,1),(1,1,1)],dtype = 'int32')\n",
        "print (matrix1)\n",
        "print (matrix2)"
      ],
      "metadata": {
        "colab": {
          "base_uri": "https://localhost:8080/"
        },
        "id": "hf3GlV7h2FXR",
        "outputId": "ae65ec1b-4d3c-4e9b-a7dd-9e35af723be6"
      },
      "execution_count": 6,
      "outputs": [
        {
          "output_type": "stream",
          "name": "stdout",
          "text": [
            "[[2 2 2]\n",
            " [2 2 2]\n",
            " [2 2 2]]\n",
            "[[1 1 1]\n",
            " [1 1 1]\n",
            " [1 1 1]]\n"
          ]
        }
      ]
    },
    {
      "cell_type": "code",
      "source": [
        "matrix1 = tf.constant(matrix1)\n",
        "matrix2 = tf.constant(matrix2)\n",
        "print (matrix1)\n",
        "print (matrix2)"
      ],
      "metadata": {
        "colab": {
          "base_uri": "https://localhost:8080/"
        },
        "id": "wI3NhYa92Tov",
        "outputId": "0fc354b8-160b-496b-ee7e-fc0a9671fdfe"
      },
      "execution_count": 7,
      "outputs": [
        {
          "output_type": "stream",
          "name": "stdout",
          "text": [
            "tf.Tensor(\n",
            "[[2 2 2]\n",
            " [2 2 2]\n",
            " [2 2 2]], shape=(3, 3), dtype=int32)\n",
            "tf.Tensor(\n",
            "[[1 1 1]\n",
            " [1 1 1]\n",
            " [1 1 1]], shape=(3, 3), dtype=int32)\n"
          ]
        }
      ]
    },
    {
      "cell_type": "code",
      "source": [
        "matrix_product = tf.matmul(matrix1, matrix2)\n",
        "matrix_sum = tf.add(matrix1,matrix2)\n",
        "print(matrix_product)\n",
        "print(matrix_sum)\n"
      ],
      "metadata": {
        "colab": {
          "base_uri": "https://localhost:8080/"
        },
        "id": "Ni4QrDxx4J3n",
        "outputId": "27203e36-b4a4-463b-db9c-e7e1fd6103fe"
      },
      "execution_count": 8,
      "outputs": [
        {
          "output_type": "stream",
          "name": "stdout",
          "text": [
            "tf.Tensor(\n",
            "[[6 6 6]\n",
            " [6 6 6]\n",
            " [6 6 6]], shape=(3, 3), dtype=int32)\n",
            "tf.Tensor(\n",
            "[[3 3 3]\n",
            " [3 3 3]\n",
            " [3 3 3]], shape=(3, 3), dtype=int32)\n"
          ]
        }
      ]
    },
    {
      "cell_type": "code",
      "source": [
        "matrix_3 = np.array([(2,7,2),(1,4,2),(9,0,2)],dtype = 'float32')\n",
        "print (matrix_3)"
      ],
      "metadata": {
        "colab": {
          "base_uri": "https://localhost:8080/"
        },
        "id": "cX5KGD3O5cbv",
        "outputId": "4340885b-db7b-41af-a294-85afcdea017f"
      },
      "execution_count": 9,
      "outputs": [
        {
          "output_type": "stream",
          "name": "stdout",
          "text": [
            "[[2. 7. 2.]\n",
            " [1. 4. 2.]\n",
            " [9. 0. 2.]]\n"
          ]
        }
      ]
    },
    {
      "cell_type": "code",
      "source": [
        "#matrix_det = tf.matrix_determinant(matrix_3) #is deprecated and revived as tf.linalg.det\n",
        "matrix_det = tf.linalg.det(matrix_3)\n",
        "print(matrix_det)"
      ],
      "metadata": {
        "colab": {
          "base_uri": "https://localhost:8080/"
        },
        "id": "891oY4dy52VE",
        "outputId": "a664fe6a-284b-4bd5-f1a5-9dd6de0490e8"
      },
      "execution_count": 10,
      "outputs": [
        {
          "output_type": "stream",
          "name": "stdout",
          "text": [
            "tf.Tensor(55.999992, shape=(), dtype=float32)\n"
          ]
        }
      ]
    }
  ]
}